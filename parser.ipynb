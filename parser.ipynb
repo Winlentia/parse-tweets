{
 "cells": [
  {
   "cell_type": "code",
   "execution_count": 1,
   "metadata": {},
   "outputs": [],
   "source": [
    "from lxml import html\n",
    "import requests"
   ]
  },
  {
   "cell_type": "code",
   "execution_count": 2,
   "metadata": {},
   "outputs": [],
   "source": [
    "def parse_tweets( nickname , tweet_size):\n",
    "    base_url = 'https://twitter.com/'\n",
    "    url = base_url + nickname\n",
    "    page = requests.get(url)\n",
    "    tree = html.fromstring(page.content)\n",
    "    tweets = tree.xpath('//p[@class=\"TweetTextSize TweetTextSize--normal js-tweet-text tweet-text\"]/text()')\n",
    "    print(nickname + \"Tweets\")\n",
    "    print(\"=======================\")\n",
    "    for num in range(0,tweet_size):\n",
    "        print(str(num) + \"--\" +tweets[num])\n",
    "    return tweets\n",
    "    \n",
    "    "
   ]
  },
  {
   "cell_type": "code",
   "execution_count": 4,
   "metadata": {},
   "outputs": [
    {
     "name": "stdout",
     "output_type": "stream",
     "text": [
      "googleTweets\n",
      "=======================\n",
      "0--With more space, smarter options, access to experts and more, Google One is a simple plan for expanded storage with extra benefits to help you get more out of Google → \n",
      "1--Celebrating \n",
      "2-- (and making hearts saur!) with today's finger-painted \n"
     ]
    },
    {
     "data": {
      "text/plain": [
       "['With more space, smarter options, access to experts and more, Google One is a simple plan for expanded storage with extra benefits to help you get more out of Google → ',\n",
       " 'Celebrating ',\n",
       " \" (and making hearts saur!) with today's finger-painted \",\n",
       " '.',\n",
       " 'Digital tools are the cherry on top for Cleveland-based ice cream shop ',\n",
       " \", just one of many local businesses participating in today's \",\n",
       " ' event in ',\n",
       " '. ',\n",
       " '→ ',\n",
       " 'How a passion for music led 24-year-old Daniel DeLeon to make breakthroughs tracking whale calls with machine learning → ',\n",
       " ' ',\n",
       " 'Close out ',\n",
       " ' with a look back at Day 3. See you next year! ',\n",
       " 'How we designed ',\n",
       " '–and our new products–to make them more accessible and enjoyable for everyone → ',\n",
       " \"...Though we don't play favorites, what made you go \",\n",
       " ' ',\n",
       " ' ',\n",
       " ' at ',\n",
       " '?',\n",
       " \"That's a wrap, \",\n",
       " '!  Keep it ',\n",
       " ' with a list of one hundred things we announced this week → ',\n",
       " 'People around the ',\n",
       " ' have drawn purple windmills, pink canoes, blue scooters and more with machine learning. Launched at ',\n",
       " ', explore a whole new world with World Draw → ',\n",
       " ' ',\n",
       " 'Kick off Day 3 with a ',\n",
       " ' Keynote ',\n",
       " ' → ',\n",
       " \"Google wants you to know that AI isn't something that’s just for PhDs anymore, \",\n",
       " ' reports via ',\n",
       " 'Two days down, one more to go. See what went down today at ',\n",
       " '.',\n",
       " 'At ',\n",
       " \", we're hearing from scientists and researchers who are using our machine learning framework \",\n",
       " ' to answer big questions—like the origin of the universe → ',\n",
       " \"Introducing Tour Creator, an easy way to create and share VR tours using Poly and WebVR. Whether you're a student or a real estate agent, Tour Creator lets you share your story.  \",\n",
       " ' ',\n",
       " ' ',\n",
       " 'Sessions. Sandboxes. A spin around the block. Kicking off Day 2 of ',\n",
       " ' → ',\n",
       " 'Pushing the boundaries of AI, an all-new ',\n",
       " ', ',\n",
       " ' and more—recap all the news that made us (and you!) go \"whoa\" today at ',\n",
       " '.',\n",
       " \"To make the world more accessible to people who are blind or visually impaired, we're launching Lookout, a new \",\n",
       " ' app that gives spoken cues about the objects, text and people around them → ',\n",
       " ' ',\n",
       " \"The need for useful and accessible information is as urgent today as it was when Google was founded. Here's how we're organizing information and solving problems with AI for everyone → \",\n",
       " ' ',\n",
       " 'Today’s ',\n",
       " ' ',\n",
       " ' keynote takes place in the very same spot Waymo ran some of our earliest self-driving tests. Nearly 10 years later, here’s how we’re using AI to make fully self-driving cars a reality.',\n",
       " \"And Lens will soon work in real time. By proactively surfacing results and anchoring them to the things you see, you'll be able to browse the world around you, just by pointing your camera → \",\n",
       " ' ']"
      ]
     },
     "execution_count": 4,
     "metadata": {},
     "output_type": "execute_result"
    }
   ],
   "source": [
    "parse_tweets(\"google\" , 3)"
   ]
  },
  {
   "cell_type": "code",
   "execution_count": 5,
   "metadata": {},
   "outputs": [
    {
     "name": "stdout",
     "output_type": "stream",
     "text": [
      "twitterTweets\n",
      "=======================\n",
      "0--Two years after an accident left \n",
      "1-- in a wheelchair and unable to communicate, he returned to Twitter thanks to technology.\n",
      "\n",
      "Welcome back, Alberto!\n",
      "2--We recently found a bug that stored passwords unmasked in an internal log. We fixed the bug and have no indication of a breach or misuse by anyone. As a precaution, consider changing your password on all services where you’ve used this password.\n",
      "3--Twitter thanks all who shared on \n",
      "4--. \n",
      "\n",
      "Follow the hashtag \n"
     ]
    },
    {
     "data": {
      "text/plain": [
       "['Two years after an accident left ',\n",
       " ' in a wheelchair and unable to communicate, he returned to Twitter thanks to technology.\\n\\nWelcome back, Alberto!',\n",
       " 'We recently found a bug that stored passwords unmasked in an internal log. We fixed the bug and have no indication of a breach or misuse by anyone. As a precaution, consider changing your password on all services where you’ve used this password.',\n",
       " 'Twitter thanks all who shared on ',\n",
       " '. \\n\\nFollow the hashtag ',\n",
       " ' to see stories behind the profession.',\n",
       " 'Twitter supports ',\n",
       " '\\n\\nJoin the conversation with ',\n",
       " ' to see stories from reporters, editors, videographers, photographers, and more.',\n",
       " 'Twitter supports ',\n",
       " '\\n\\nJoin the conversation with ',\n",
       " ' to see stories from reporters, editors, videographers, photographers, and more.',\n",
       " 'Update the new Twitter for Windows app to receive: \\n\\n',\n",
       " ' Extended character limit to 280 characters\\n',\n",
       " ' Explore tab to find topics relevant to your interests\\n',\n",
       " 'Ability to bookmark Tweets to be read later\\n\\nLearn more below and download the app:',\n",
       " 'We encourage you to update the app as we will no longer continue to support previous versions beginning on June 1. We’re doing this to focus on providing our Windows users with the latest and greatest, like night mode, which is coming soon.',\n",
       " 'Today we’re introducing a brand new Twitter for Windows app. \\n\\nAccess a faster, easier to use experience with a refreshed look and feel. Learn more in our blog and download the new app today!',\n",
       " 'Protecting and defending your privacy is at the heart of our work. Today, we’re launching our new Privacy Policy and Terms of Service, which will come into effect on May 25.\\n\\n',\n",
       " ' ',\n",
       " '\\n',\n",
       " ' ',\n",
       " '\\n\\nLearn more here:',\n",
       " 'Twitter is proud to support ',\n",
       " ', today and every day.\\n\\nAll of our people, of all genders, races, and ethnicities, are paid equitably. We are committed to creating a diverse and inclusive workplace for all.',\n",
       " 'Thank you ',\n",
       " ' for bringing such a powerful message to the world with your first Tweet. \\n\\n',\n",
       " 'All of us at Twitter are horrified by the shooting today at ',\n",
       " ' HQ. Our thoughts and deepest sympathies are with our friends and colleagues in San Bruno.',\n",
       " \"Did you just watch something in a live video on Twitter that you want others to see?\\n\\nWe're introducing Timestamps — a new feature rolling out today that lets you Tweet a specific start time for a live video, so everyone can jump right into the action!\",\n",
       " 'The ',\n",
       " ' take on the ',\n",
       " ' this Saturday, and you can watch the full match right here on Twitter!\\n\\nFollow ',\n",
       " ' to see what else is streaming all week long.',\n",
       " 'Following ',\n",
       " '’s conversation with ',\n",
       " ' ',\n",
       " ' and ',\n",
       " ', ',\n",
       " ' sits down with them and other students from across the country impacted by gun violence. ',\n",
       " 'ICYMI: today we took to the streets of Washington, DC to demand that we end gun violence and mass shootings in our schools and communities. This is just the beginning ',\n",
       " 'Hoping to bring an end to gun violence, demonstrators are rallying across the US and around the world. ',\n",
       " 'Watch the ',\n",
       " ' Q&A with ',\n",
       " ' now.',\n",
       " 'Meet the students and activists speaking truth to power about gun violence and challenging the status quo.\\n\\n',\n",
       " ' ',\n",
       " ' & ',\n",
       " ', in today’s ',\n",
       " ', join us at 1pm ET for a livestream here on ',\n",
       " '.\\n\\nTweet your questions using ',\n",
       " '.']"
      ]
     },
     "execution_count": 5,
     "metadata": {},
     "output_type": "execute_result"
    }
   ],
   "source": [
    "parse_tweets(\"twitter\",5)"
   ]
  },
  {
   "cell_type": "code",
   "execution_count": null,
   "metadata": {},
   "outputs": [],
   "source": []
  }
 ],
 "metadata": {
  "kernelspec": {
   "display_name": "Python 3",
   "language": "python",
   "name": "python3"
  },
  "language_info": {
   "codemirror_mode": {
    "name": "ipython",
    "version": 3
   },
   "file_extension": ".py",
   "mimetype": "text/x-python",
   "name": "python",
   "nbconvert_exporter": "python",
   "pygments_lexer": "ipython3",
   "version": "3.6.4"
  }
 },
 "nbformat": 4,
 "nbformat_minor": 2
}
